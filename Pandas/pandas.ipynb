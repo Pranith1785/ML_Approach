{
 "metadata": {
  "language_info": {
   "codemirror_mode": {
    "name": "ipython",
    "version": 3
   },
   "file_extension": ".py",
   "mimetype": "text/x-python",
   "name": "python",
   "nbconvert_exporter": "python",
   "pygments_lexer": "ipython3",
   "version": "3.7.4"
  },
  "orig_nbformat": 4,
  "kernelspec": {
   "name": "python3",
   "display_name": "Python 3.7.4 64-bit ('base': conda)"
  },
  "interpreter": {
   "hash": "b3ba2566441a7c06988d0923437866b63cedc61552a5af99d1f4fb67d367b25f"
  }
 },
 "nbformat": 4,
 "nbformat_minor": 2,
 "cells": [
  {
   "source": [
    "# Preprocessing using pandas"
   ],
   "cell_type": "markdown",
   "metadata": {}
  },
  {
   "cell_type": "code",
   "execution_count": 28,
   "metadata": {},
   "outputs": [],
   "source": [
    "import numpy as np\n",
    "import pandas as pd\n",
    "from sklearn import datasets"
   ]
  },
  {
   "cell_type": "code",
   "execution_count": 33,
   "metadata": {},
   "outputs": [],
   "source": [
    "airport_data = pd.read_csv(\"airports.csv\",sep=\",\")\n",
    "airport_freq = pd.read_csv(\"airport-frequencies.csv\",sep=\",\")\n",
    "runways = pd.read_csv(\"runways.csv\",sep=\",\")"
   ]
  },
  {
   "cell_type": "code",
   "execution_count": 43,
   "metadata": {},
   "outputs": [
    {
     "output_type": "execute_result",
     "data": {
      "text/plain": [
       "id                     int64\n",
       "ident                 object\n",
       "type                  object\n",
       "name                  object\n",
       "latitude_deg         float64\n",
       "longitude_deg        float64\n",
       "elevation_ft         float64\n",
       "continent             object\n",
       "iso_country           object\n",
       "iso_region            object\n",
       "municipality          object\n",
       "scheduled_service     object\n",
       "gps_code              object\n",
       "iata_code             object\n",
       "local_code            object\n",
       "home_link             object\n",
       "wikipedia_link        object\n",
       "keywords              object\n",
       "dtype: object"
      ]
     },
     "metadata": {},
     "execution_count": 43
    }
   ],
   "source": [
    "## dtypes\n",
    "airport_data.dtypes"
   ]
  },
  {
   "source": [
    "### Column name and size"
   ],
   "cell_type": "markdown",
   "metadata": {}
  },
  {
   "cell_type": "code",
   "execution_count": 54,
   "metadata": {},
   "outputs": [
    {
     "output_type": "stream",
     "name": "stdout",
     "text": [
      "Index(['id', 'ident', 'type', 'name', 'latitude_deg', 'longitude_deg',\n       'elevation_ft', 'continent', 'iso_country', 'iso_region',\n       'municipality', 'scheduled_service', 'gps_code', 'iata_code',\n       'local_code', 'home_link', 'wikipedia_link', 'keywords'],\n      dtype='object')\n"
     ]
    },
    {
     "output_type": "execute_result",
     "data": {
      "text/plain": [
       "(66533, 18)"
      ]
     },
     "metadata": {},
     "execution_count": 54
    }
   ],
   "source": [
    "\n",
    "print(airport_data.columns)\n",
    "airport_data.shape"
   ]
  },
  {
   "cell_type": "code",
   "execution_count": 34,
   "metadata": {},
   "outputs": [
    {
     "output_type": "execute_result",
     "data": {
      "text/plain": [
       "       id ident           type                                name  \\\n",
       "0    6523   00A       heliport                   Total Rf Heliport   \n",
       "1  323361  00AA  small_airport                Aero B Ranch Airport   \n",
       "2    6524  00AK  small_airport                        Lowell Field   \n",
       "3    6525  00AL  small_airport                        Epps Airpark   \n",
       "4    6526  00AR         closed  Newport Hospital & Clinic Heliport   \n",
       "\n",
       "   latitude_deg  longitude_deg  elevation_ft continent iso_country iso_region  \\\n",
       "0     40.070801     -74.933601          11.0       NaN          US      US-PA   \n",
       "1     38.704022    -101.473911        3435.0       NaN          US      US-KS   \n",
       "2     59.949200    -151.695999         450.0       NaN          US      US-AK   \n",
       "3     34.864799     -86.770302         820.0       NaN          US      US-AL   \n",
       "4     35.608700     -91.254898         237.0       NaN          US      US-AR   \n",
       "\n",
       "   municipality scheduled_service gps_code iata_code local_code home_link  \\\n",
       "0      Bensalem                no      00A       NaN        00A       NaN   \n",
       "1         Leoti                no     00AA       NaN       00AA       NaN   \n",
       "2  Anchor Point                no     00AK       NaN       00AK       NaN   \n",
       "3       Harvest                no     00AL       NaN       00AL       NaN   \n",
       "4       Newport                no      NaN       NaN        NaN       NaN   \n",
       "\n",
       "  wikipedia_link keywords  \n",
       "0            NaN      NaN  \n",
       "1            NaN      NaN  \n",
       "2            NaN      NaN  \n",
       "3            NaN      NaN  \n",
       "4            NaN     00AR  "
      ],
      "text/html": "<div>\n<style scoped>\n    .dataframe tbody tr th:only-of-type {\n        vertical-align: middle;\n    }\n\n    .dataframe tbody tr th {\n        vertical-align: top;\n    }\n\n    .dataframe thead th {\n        text-align: right;\n    }\n</style>\n<table border=\"1\" class=\"dataframe\">\n  <thead>\n    <tr style=\"text-align: right;\">\n      <th></th>\n      <th>id</th>\n      <th>ident</th>\n      <th>type</th>\n      <th>name</th>\n      <th>latitude_deg</th>\n      <th>longitude_deg</th>\n      <th>elevation_ft</th>\n      <th>continent</th>\n      <th>iso_country</th>\n      <th>iso_region</th>\n      <th>municipality</th>\n      <th>scheduled_service</th>\n      <th>gps_code</th>\n      <th>iata_code</th>\n      <th>local_code</th>\n      <th>home_link</th>\n      <th>wikipedia_link</th>\n      <th>keywords</th>\n    </tr>\n  </thead>\n  <tbody>\n    <tr>\n      <td>0</td>\n      <td>6523</td>\n      <td>00A</td>\n      <td>heliport</td>\n      <td>Total Rf Heliport</td>\n      <td>40.070801</td>\n      <td>-74.933601</td>\n      <td>11.0</td>\n      <td>NaN</td>\n      <td>US</td>\n      <td>US-PA</td>\n      <td>Bensalem</td>\n      <td>no</td>\n      <td>00A</td>\n      <td>NaN</td>\n      <td>00A</td>\n      <td>NaN</td>\n      <td>NaN</td>\n      <td>NaN</td>\n    </tr>\n    <tr>\n      <td>1</td>\n      <td>323361</td>\n      <td>00AA</td>\n      <td>small_airport</td>\n      <td>Aero B Ranch Airport</td>\n      <td>38.704022</td>\n      <td>-101.473911</td>\n      <td>3435.0</td>\n      <td>NaN</td>\n      <td>US</td>\n      <td>US-KS</td>\n      <td>Leoti</td>\n      <td>no</td>\n      <td>00AA</td>\n      <td>NaN</td>\n      <td>00AA</td>\n      <td>NaN</td>\n      <td>NaN</td>\n      <td>NaN</td>\n    </tr>\n    <tr>\n      <td>2</td>\n      <td>6524</td>\n      <td>00AK</td>\n      <td>small_airport</td>\n      <td>Lowell Field</td>\n      <td>59.949200</td>\n      <td>-151.695999</td>\n      <td>450.0</td>\n      <td>NaN</td>\n      <td>US</td>\n      <td>US-AK</td>\n      <td>Anchor Point</td>\n      <td>no</td>\n      <td>00AK</td>\n      <td>NaN</td>\n      <td>00AK</td>\n      <td>NaN</td>\n      <td>NaN</td>\n      <td>NaN</td>\n    </tr>\n    <tr>\n      <td>3</td>\n      <td>6525</td>\n      <td>00AL</td>\n      <td>small_airport</td>\n      <td>Epps Airpark</td>\n      <td>34.864799</td>\n      <td>-86.770302</td>\n      <td>820.0</td>\n      <td>NaN</td>\n      <td>US</td>\n      <td>US-AL</td>\n      <td>Harvest</td>\n      <td>no</td>\n      <td>00AL</td>\n      <td>NaN</td>\n      <td>00AL</td>\n      <td>NaN</td>\n      <td>NaN</td>\n      <td>NaN</td>\n    </tr>\n    <tr>\n      <td>4</td>\n      <td>6526</td>\n      <td>00AR</td>\n      <td>closed</td>\n      <td>Newport Hospital &amp; Clinic Heliport</td>\n      <td>35.608700</td>\n      <td>-91.254898</td>\n      <td>237.0</td>\n      <td>NaN</td>\n      <td>US</td>\n      <td>US-AR</td>\n      <td>Newport</td>\n      <td>no</td>\n      <td>NaN</td>\n      <td>NaN</td>\n      <td>NaN</td>\n      <td>NaN</td>\n      <td>NaN</td>\n      <td>00AR</td>\n    </tr>\n  </tbody>\n</table>\n</div>"
     },
     "metadata": {},
     "execution_count": 34
    }
   ],
   "source": [
    "## Top 5\n",
    "airport_data.head(5)"
   ]
  },
  {
   "cell_type": "code",
   "execution_count": 35,
   "metadata": {},
   "outputs": [
    {
     "output_type": "execute_result",
     "data": {
      "text/plain": [
       "           id    ident            type                       name  \\\n",
       "66528   32753     ZYYY  medium_airport    Shenyang Dongta Airport   \n",
       "66529   46378  ZZ-0001        heliport            Sealand Helipad   \n",
       "66530  307326  ZZ-0002   small_airport  Glorioso Islands Airstrip   \n",
       "66531  342102     ZZZW          closed     Scandium City Heliport   \n",
       "66532  313629     ZZZZ   small_airport     Satsuma Iōjima Airport   \n",
       "\n",
       "       latitude_deg  longitude_deg  elevation_ft continent iso_country  \\\n",
       "66528     41.784401     123.496002           NaN        AS          CN   \n",
       "66529     51.894444       1.482500          40.0        EU          GB   \n",
       "66530    -11.584278      47.296389          11.0        AF          TF   \n",
       "66531     69.355287    -138.939310           4.0       NaN          CA   \n",
       "66532     30.784722     130.270556         338.0        AS          JP   \n",
       "\n",
       "      iso_region         municipality scheduled_service gps_code iata_code  \\\n",
       "66528      CN-21     Dadong, Shenyang                no     ZYYY       NaN   \n",
       "66529     GB-ENG              Sealand                no      NaN       NaN   \n",
       "66530     TF-U-A     Grande Glorieuse                no      NaN       NaN   \n",
       "66531      CA-YT  (Old) Scandium City                no     ZZZW       ZYW   \n",
       "66532      JP-46              Mishima                no     RJX7       NaN   \n",
       "\n",
       "      local_code                   home_link  \\\n",
       "66528        NaN                         NaN   \n",
       "66529        NaN  http://www.sealandgov.org/   \n",
       "66530        NaN                         NaN   \n",
       "66531       YK96                         NaN   \n",
       "66532       RJX7                         NaN   \n",
       "\n",
       "                                          wikipedia_link              keywords  \n",
       "66528                                                NaN                   NaN  \n",
       "66529  https://en.wikipedia.org/wiki/Principality_of_...  Roughs Tower Helipad  \n",
       "66530                                                NaN                   NaN  \n",
       "66531                                                NaN                   NaN  \n",
       "66532  http://wikimapia.org/6705190/Satsuma-Iwo-jima-...  SATSUMA,IWOJIMA,RJX7  "
      ],
      "text/html": "<div>\n<style scoped>\n    .dataframe tbody tr th:only-of-type {\n        vertical-align: middle;\n    }\n\n    .dataframe tbody tr th {\n        vertical-align: top;\n    }\n\n    .dataframe thead th {\n        text-align: right;\n    }\n</style>\n<table border=\"1\" class=\"dataframe\">\n  <thead>\n    <tr style=\"text-align: right;\">\n      <th></th>\n      <th>id</th>\n      <th>ident</th>\n      <th>type</th>\n      <th>name</th>\n      <th>latitude_deg</th>\n      <th>longitude_deg</th>\n      <th>elevation_ft</th>\n      <th>continent</th>\n      <th>iso_country</th>\n      <th>iso_region</th>\n      <th>municipality</th>\n      <th>scheduled_service</th>\n      <th>gps_code</th>\n      <th>iata_code</th>\n      <th>local_code</th>\n      <th>home_link</th>\n      <th>wikipedia_link</th>\n      <th>keywords</th>\n    </tr>\n  </thead>\n  <tbody>\n    <tr>\n      <td>66528</td>\n      <td>32753</td>\n      <td>ZYYY</td>\n      <td>medium_airport</td>\n      <td>Shenyang Dongta Airport</td>\n      <td>41.784401</td>\n      <td>123.496002</td>\n      <td>NaN</td>\n      <td>AS</td>\n      <td>CN</td>\n      <td>CN-21</td>\n      <td>Dadong, Shenyang</td>\n      <td>no</td>\n      <td>ZYYY</td>\n      <td>NaN</td>\n      <td>NaN</td>\n      <td>NaN</td>\n      <td>NaN</td>\n      <td>NaN</td>\n    </tr>\n    <tr>\n      <td>66529</td>\n      <td>46378</td>\n      <td>ZZ-0001</td>\n      <td>heliport</td>\n      <td>Sealand Helipad</td>\n      <td>51.894444</td>\n      <td>1.482500</td>\n      <td>40.0</td>\n      <td>EU</td>\n      <td>GB</td>\n      <td>GB-ENG</td>\n      <td>Sealand</td>\n      <td>no</td>\n      <td>NaN</td>\n      <td>NaN</td>\n      <td>NaN</td>\n      <td>http://www.sealandgov.org/</td>\n      <td>https://en.wikipedia.org/wiki/Principality_of_...</td>\n      <td>Roughs Tower Helipad</td>\n    </tr>\n    <tr>\n      <td>66530</td>\n      <td>307326</td>\n      <td>ZZ-0002</td>\n      <td>small_airport</td>\n      <td>Glorioso Islands Airstrip</td>\n      <td>-11.584278</td>\n      <td>47.296389</td>\n      <td>11.0</td>\n      <td>AF</td>\n      <td>TF</td>\n      <td>TF-U-A</td>\n      <td>Grande Glorieuse</td>\n      <td>no</td>\n      <td>NaN</td>\n      <td>NaN</td>\n      <td>NaN</td>\n      <td>NaN</td>\n      <td>NaN</td>\n      <td>NaN</td>\n    </tr>\n    <tr>\n      <td>66531</td>\n      <td>342102</td>\n      <td>ZZZW</td>\n      <td>closed</td>\n      <td>Scandium City Heliport</td>\n      <td>69.355287</td>\n      <td>-138.939310</td>\n      <td>4.0</td>\n      <td>NaN</td>\n      <td>CA</td>\n      <td>CA-YT</td>\n      <td>(Old) Scandium City</td>\n      <td>no</td>\n      <td>ZZZW</td>\n      <td>ZYW</td>\n      <td>YK96</td>\n      <td>NaN</td>\n      <td>NaN</td>\n      <td>NaN</td>\n    </tr>\n    <tr>\n      <td>66532</td>\n      <td>313629</td>\n      <td>ZZZZ</td>\n      <td>small_airport</td>\n      <td>Satsuma Iōjima Airport</td>\n      <td>30.784722</td>\n      <td>130.270556</td>\n      <td>338.0</td>\n      <td>AS</td>\n      <td>JP</td>\n      <td>JP-46</td>\n      <td>Mishima</td>\n      <td>no</td>\n      <td>RJX7</td>\n      <td>NaN</td>\n      <td>RJX7</td>\n      <td>NaN</td>\n      <td>http://wikimapia.org/6705190/Satsuma-Iwo-jima-...</td>\n      <td>SATSUMA,IWOJIMA,RJX7</td>\n    </tr>\n  </tbody>\n</table>\n</div>"
     },
     "metadata": {},
     "execution_count": 35
    }
   ],
   "source": [
    "## Tail \n",
    "airport_data.tail(5)"
   ]
  },
  {
   "cell_type": "code",
   "execution_count": 38,
   "metadata": {},
   "outputs": [
    {
     "output_type": "execute_result",
     "data": {
      "text/plain": [
       "array(['00A', '00AA', '00AK', ..., 'ZZ-0002', 'ZZZW', 'ZZZZ'],\n",
       "      dtype=object)"
      ]
     },
     "metadata": {},
     "execution_count": 38
    }
   ],
   "source": [
    "## Get unique records\n",
    "airport_data['ident'].unique()"
   ]
  },
  {
   "source": [
    "### Filtering data"
   ],
   "cell_type": "markdown",
   "metadata": {}
  },
  {
   "cell_type": "code",
   "execution_count": 40,
   "metadata": {},
   "outputs": [
    {
     "output_type": "execute_result",
     "data": {
      "text/plain": [
       "  ident           type\n",
       "2  00AK  small_airport"
      ],
      "text/html": "<div>\n<style scoped>\n    .dataframe tbody tr th:only-of-type {\n        vertical-align: middle;\n    }\n\n    .dataframe tbody tr th {\n        vertical-align: top;\n    }\n\n    .dataframe thead th {\n        text-align: right;\n    }\n</style>\n<table border=\"1\" class=\"dataframe\">\n  <thead>\n    <tr style=\"text-align: right;\">\n      <th></th>\n      <th>ident</th>\n      <th>type</th>\n    </tr>\n  </thead>\n  <tbody>\n    <tr>\n      <td>2</td>\n      <td>00AK</td>\n      <td>small_airport</td>\n    </tr>\n  </tbody>\n</table>\n</div>"
     },
     "metadata": {},
     "execution_count": 40
    }
   ],
   "source": [
    "## Filter data based on any field value\n",
    "airport_data[airport_data.ident == '00AK']\n",
    "\n",
    "## after filter, select specify columns\n",
    "airport_data[airport_data['ident'] == '00AK'][['ident','type']]"
   ]
  },
  {
   "cell_type": "code",
   "execution_count": 42,
   "metadata": {},
   "outputs": [
    {
     "output_type": "execute_result",
     "data": {
      "text/plain": [
       "           id    ident\n",
       "1007     7436      0O0\n",
       "2557     8877     22CA\n",
       "6409    12298     5CA9\n",
       "14677   16514      C39\n",
       "17110   16830     CN20\n",
       "19567   17157      E20\n",
       "25417   17613      H77\n",
       "36038   21444      L11\n",
       "43387   23479      O06\n",
       "47645   24384      S74\n",
       "55610  300312      TWH\n",
       "59918  342286  US-3338\n",
       "60036  342600  US-3456"
      ],
      "text/html": "<div>\n<style scoped>\n    .dataframe tbody tr th:only-of-type {\n        vertical-align: middle;\n    }\n\n    .dataframe tbody tr th {\n        vertical-align: top;\n    }\n\n    .dataframe thead th {\n        text-align: right;\n    }\n</style>\n<table border=\"1\" class=\"dataframe\">\n  <thead>\n    <tr style=\"text-align: right;\">\n      <th></th>\n      <th>id</th>\n      <th>ident</th>\n    </tr>\n  </thead>\n  <tbody>\n    <tr>\n      <td>1007</td>\n      <td>7436</td>\n      <td>0O0</td>\n    </tr>\n    <tr>\n      <td>2557</td>\n      <td>8877</td>\n      <td>22CA</td>\n    </tr>\n    <tr>\n      <td>6409</td>\n      <td>12298</td>\n      <td>5CA9</td>\n    </tr>\n    <tr>\n      <td>14677</td>\n      <td>16514</td>\n      <td>C39</td>\n    </tr>\n    <tr>\n      <td>17110</td>\n      <td>16830</td>\n      <td>CN20</td>\n    </tr>\n    <tr>\n      <td>19567</td>\n      <td>17157</td>\n      <td>E20</td>\n    </tr>\n    <tr>\n      <td>25417</td>\n      <td>17613</td>\n      <td>H77</td>\n    </tr>\n    <tr>\n      <td>36038</td>\n      <td>21444</td>\n      <td>L11</td>\n    </tr>\n    <tr>\n      <td>43387</td>\n      <td>23479</td>\n      <td>O06</td>\n    </tr>\n    <tr>\n      <td>47645</td>\n      <td>24384</td>\n      <td>S74</td>\n    </tr>\n    <tr>\n      <td>55610</td>\n      <td>300312</td>\n      <td>TWH</td>\n    </tr>\n    <tr>\n      <td>59918</td>\n      <td>342286</td>\n      <td>US-3338</td>\n    </tr>\n    <tr>\n      <td>60036</td>\n      <td>342600</td>\n      <td>US-3456</td>\n    </tr>\n  </tbody>\n</table>\n</div>"
     },
     "metadata": {},
     "execution_count": 42
    }
   ],
   "source": [
    "## Muliptle filter conditons\n",
    "airport_data[(airport_data['iso_region'] == 'US-CA') & (airport_data['type'] == 'seaplane_base')][['id','ident']]"
   ]
  },
  {
   "source": [
    "### Ordering the records"
   ],
   "cell_type": "markdown",
   "metadata": {}
  },
  {
   "cell_type": "code",
   "execution_count": 45,
   "metadata": {},
   "outputs": [
    {
     "output_type": "execute_result",
     "data": {
      "text/plain": [
       "           id    ident         type                            name  \\\n",
       "1366     7767     12JY  balloonport  Clinton Elks Lodge Balloonport   \n",
       "23261  322152  FR-0354  balloonport            Cérizols Balloonport   \n",
       "24751  332718  GB-0682  balloonport                    Lydiard Park   \n",
       "\n",
       "       latitude_deg  longitude_deg  elevation_ft continent iso_country  \\\n",
       "1366      40.604198     -74.920799          37.0       NaN          US   \n",
       "23261     43.128889       1.069444        1312.0        EU          FR   \n",
       "24751     51.561725      -1.851930           NaN        EU          GB   \n",
       "\n",
       "      iso_region municipality scheduled_service gps_code iata_code local_code  \\\n",
       "1366       US-NJ    Pittstown                no     12JY       NaN       12JY   \n",
       "23261     FR-OCC     Cérizols                no      NaN       NaN     LF0926   \n",
       "24751     GB-ENG          NaN                no      NaN       NaN        NaN   \n",
       "\n",
       "                                home_link wikipedia_link keywords  \n",
       "1366                                  NaN            NaN      NaN  \n",
       "23261  http://www.ballon-bleu-horizon.fr/            NaN      NaN  \n",
       "24751                                 NaN            NaN      NaN  "
      ],
      "text/html": "<div>\n<style scoped>\n    .dataframe tbody tr th:only-of-type {\n        vertical-align: middle;\n    }\n\n    .dataframe tbody tr th {\n        vertical-align: top;\n    }\n\n    .dataframe thead th {\n        text-align: right;\n    }\n</style>\n<table border=\"1\" class=\"dataframe\">\n  <thead>\n    <tr style=\"text-align: right;\">\n      <th></th>\n      <th>id</th>\n      <th>ident</th>\n      <th>type</th>\n      <th>name</th>\n      <th>latitude_deg</th>\n      <th>longitude_deg</th>\n      <th>elevation_ft</th>\n      <th>continent</th>\n      <th>iso_country</th>\n      <th>iso_region</th>\n      <th>municipality</th>\n      <th>scheduled_service</th>\n      <th>gps_code</th>\n      <th>iata_code</th>\n      <th>local_code</th>\n      <th>home_link</th>\n      <th>wikipedia_link</th>\n      <th>keywords</th>\n    </tr>\n  </thead>\n  <tbody>\n    <tr>\n      <td>1366</td>\n      <td>7767</td>\n      <td>12JY</td>\n      <td>balloonport</td>\n      <td>Clinton Elks Lodge Balloonport</td>\n      <td>40.604198</td>\n      <td>-74.920799</td>\n      <td>37.0</td>\n      <td>NaN</td>\n      <td>US</td>\n      <td>US-NJ</td>\n      <td>Pittstown</td>\n      <td>no</td>\n      <td>12JY</td>\n      <td>NaN</td>\n      <td>12JY</td>\n      <td>NaN</td>\n      <td>NaN</td>\n      <td>NaN</td>\n    </tr>\n    <tr>\n      <td>23261</td>\n      <td>322152</td>\n      <td>FR-0354</td>\n      <td>balloonport</td>\n      <td>Cérizols Balloonport</td>\n      <td>43.128889</td>\n      <td>1.069444</td>\n      <td>1312.0</td>\n      <td>EU</td>\n      <td>FR</td>\n      <td>FR-OCC</td>\n      <td>Cérizols</td>\n      <td>no</td>\n      <td>NaN</td>\n      <td>NaN</td>\n      <td>LF0926</td>\n      <td>http://www.ballon-bleu-horizon.fr/</td>\n      <td>NaN</td>\n      <td>NaN</td>\n    </tr>\n    <tr>\n      <td>24751</td>\n      <td>332718</td>\n      <td>GB-0682</td>\n      <td>balloonport</td>\n      <td>Lydiard Park</td>\n      <td>51.561725</td>\n      <td>-1.851930</td>\n      <td>NaN</td>\n      <td>EU</td>\n      <td>GB</td>\n      <td>GB-ENG</td>\n      <td>NaN</td>\n      <td>no</td>\n      <td>NaN</td>\n      <td>NaN</td>\n      <td>NaN</td>\n      <td>NaN</td>\n      <td>NaN</td>\n      <td>NaN</td>\n    </tr>\n  </tbody>\n</table>\n</div>"
     },
     "metadata": {},
     "execution_count": 45
    }
   ],
   "source": [
    "## Order records by single and multiple columns\n",
    "airport_data.sort_values(by = 'type',ascending=True).head(3)"
   ]
  },
  {
   "cell_type": "code",
   "execution_count": 46,
   "metadata": {},
   "outputs": [
    {
     "output_type": "execute_result",
     "data": {
      "text/plain": [
       "           id    ident         type                              name  \\\n",
       "19276  343923  DE-0448  balloonport   Freiballon-Startplatz Köln-Sülz   \n",
       "60209  343066  US-3629  balloonport               Balloon Fiesta Park   \n",
       "59218  339097  US-2641  balloonport  Characters in Flight Balloonport   \n",
       "59042  338804  US-2465  balloonport                   Marfa TARS Site   \n",
       "59041  338803  US-2464  balloonport                    Yuma TARS Site   \n",
       "\n",
       "       latitude_deg  longitude_deg  elevation_ft continent iso_country  \\\n",
       "19276      50.91305        6.89627           NaN        EU          DE   \n",
       "60209      35.19652     -106.59717        5075.0       NaN          US   \n",
       "59218      28.37096      -81.51947           NaN       NaN          US   \n",
       "59042      30.43440     -104.32061        4701.0       NaN          US   \n",
       "59041      33.01587     -114.24328         991.0       NaN          US   \n",
       "\n",
       "      iso_region      municipality scheduled_service gps_code iata_code  \\\n",
       "19276      DE-NW         Köln-Sülz                no      NaN       NaN   \n",
       "60209      US-NM       Albuquerque                no      NaN       NaN   \n",
       "59218      US-FL  Lake Buena Vista                no      NaN       NaN   \n",
       "59042      US-TX           Shafter                no      NaN       NaN   \n",
       "59041      US-AZ              Yuma                no      NaN       NaN   \n",
       "\n",
       "      local_code home_link wikipedia_link keywords  \n",
       "19276        NaN       NaN            NaN      NaN  \n",
       "60209        NaN       NaN            NaN      NaN  \n",
       "59218        NaN       NaN            NaN      NaN  \n",
       "59042        NaN       NaN            NaN      NaN  \n",
       "59041        NaN       NaN            NaN      NaN  "
      ],
      "text/html": "<div>\n<style scoped>\n    .dataframe tbody tr th:only-of-type {\n        vertical-align: middle;\n    }\n\n    .dataframe tbody tr th {\n        vertical-align: top;\n    }\n\n    .dataframe thead th {\n        text-align: right;\n    }\n</style>\n<table border=\"1\" class=\"dataframe\">\n  <thead>\n    <tr style=\"text-align: right;\">\n      <th></th>\n      <th>id</th>\n      <th>ident</th>\n      <th>type</th>\n      <th>name</th>\n      <th>latitude_deg</th>\n      <th>longitude_deg</th>\n      <th>elevation_ft</th>\n      <th>continent</th>\n      <th>iso_country</th>\n      <th>iso_region</th>\n      <th>municipality</th>\n      <th>scheduled_service</th>\n      <th>gps_code</th>\n      <th>iata_code</th>\n      <th>local_code</th>\n      <th>home_link</th>\n      <th>wikipedia_link</th>\n      <th>keywords</th>\n    </tr>\n  </thead>\n  <tbody>\n    <tr>\n      <td>19276</td>\n      <td>343923</td>\n      <td>DE-0448</td>\n      <td>balloonport</td>\n      <td>Freiballon-Startplatz Köln-Sülz</td>\n      <td>50.91305</td>\n      <td>6.89627</td>\n      <td>NaN</td>\n      <td>EU</td>\n      <td>DE</td>\n      <td>DE-NW</td>\n      <td>Köln-Sülz</td>\n      <td>no</td>\n      <td>NaN</td>\n      <td>NaN</td>\n      <td>NaN</td>\n      <td>NaN</td>\n      <td>NaN</td>\n      <td>NaN</td>\n    </tr>\n    <tr>\n      <td>60209</td>\n      <td>343066</td>\n      <td>US-3629</td>\n      <td>balloonport</td>\n      <td>Balloon Fiesta Park</td>\n      <td>35.19652</td>\n      <td>-106.59717</td>\n      <td>5075.0</td>\n      <td>NaN</td>\n      <td>US</td>\n      <td>US-NM</td>\n      <td>Albuquerque</td>\n      <td>no</td>\n      <td>NaN</td>\n      <td>NaN</td>\n      <td>NaN</td>\n      <td>NaN</td>\n      <td>NaN</td>\n      <td>NaN</td>\n    </tr>\n    <tr>\n      <td>59218</td>\n      <td>339097</td>\n      <td>US-2641</td>\n      <td>balloonport</td>\n      <td>Characters in Flight Balloonport</td>\n      <td>28.37096</td>\n      <td>-81.51947</td>\n      <td>NaN</td>\n      <td>NaN</td>\n      <td>US</td>\n      <td>US-FL</td>\n      <td>Lake Buena Vista</td>\n      <td>no</td>\n      <td>NaN</td>\n      <td>NaN</td>\n      <td>NaN</td>\n      <td>NaN</td>\n      <td>NaN</td>\n      <td>NaN</td>\n    </tr>\n    <tr>\n      <td>59042</td>\n      <td>338804</td>\n      <td>US-2465</td>\n      <td>balloonport</td>\n      <td>Marfa TARS Site</td>\n      <td>30.43440</td>\n      <td>-104.32061</td>\n      <td>4701.0</td>\n      <td>NaN</td>\n      <td>US</td>\n      <td>US-TX</td>\n      <td>Shafter</td>\n      <td>no</td>\n      <td>NaN</td>\n      <td>NaN</td>\n      <td>NaN</td>\n      <td>NaN</td>\n      <td>NaN</td>\n      <td>NaN</td>\n    </tr>\n    <tr>\n      <td>59041</td>\n      <td>338803</td>\n      <td>US-2464</td>\n      <td>balloonport</td>\n      <td>Yuma TARS Site</td>\n      <td>33.01587</td>\n      <td>-114.24328</td>\n      <td>991.0</td>\n      <td>NaN</td>\n      <td>US</td>\n      <td>US-AZ</td>\n      <td>Yuma</td>\n      <td>no</td>\n      <td>NaN</td>\n      <td>NaN</td>\n      <td>NaN</td>\n      <td>NaN</td>\n      <td>NaN</td>\n      <td>NaN</td>\n    </tr>\n  </tbody>\n</table>\n</div>"
     },
     "metadata": {},
     "execution_count": 46
    }
   ],
   "source": [
    "airport_data.sort_values(by = ['type','id'], ascending=[True,False]).head(5)"
   ]
  },
  {
   "cell_type": "code",
   "execution_count": 51,
   "metadata": {},
   "outputs": [
    {
     "output_type": "execute_result",
     "data": {
      "text/plain": [
       "       id ident      type                                name  latitude_deg  \\\n",
       "0    6523   00A  heliport                   Total Rf Heliport     40.070801   \n",
       "4    6526  00AR    closed  Newport Hospital & Clinic Heliport     35.608700   \n",
       "9  322658  00CN  heliport     Kitchen Creek Helibase Heliport     32.727374   \n",
       "\n",
       "   longitude_deg  elevation_ft continent iso_country iso_region municipality  \\\n",
       "0     -74.933601          11.0       NaN          US      US-PA     Bensalem   \n",
       "4     -91.254898         237.0       NaN          US      US-AR      Newport   \n",
       "9    -116.459742        3350.0       NaN          US      US-CA  Pine Valley   \n",
       "\n",
       "  scheduled_service gps_code iata_code local_code home_link wikipedia_link  \\\n",
       "0                no      00A       NaN        00A       NaN            NaN   \n",
       "4                no      NaN       NaN        NaN       NaN            NaN   \n",
       "9                no     00CN       NaN       00CN       NaN            NaN   \n",
       "\n",
       "  keywords  \n",
       "0      NaN  \n",
       "4     00AR  \n",
       "9      NaN  "
      ],
      "text/html": "<div>\n<style scoped>\n    .dataframe tbody tr th:only-of-type {\n        vertical-align: middle;\n    }\n\n    .dataframe tbody tr th {\n        vertical-align: top;\n    }\n\n    .dataframe thead th {\n        text-align: right;\n    }\n</style>\n<table border=\"1\" class=\"dataframe\">\n  <thead>\n    <tr style=\"text-align: right;\">\n      <th></th>\n      <th>id</th>\n      <th>ident</th>\n      <th>type</th>\n      <th>name</th>\n      <th>latitude_deg</th>\n      <th>longitude_deg</th>\n      <th>elevation_ft</th>\n      <th>continent</th>\n      <th>iso_country</th>\n      <th>iso_region</th>\n      <th>municipality</th>\n      <th>scheduled_service</th>\n      <th>gps_code</th>\n      <th>iata_code</th>\n      <th>local_code</th>\n      <th>home_link</th>\n      <th>wikipedia_link</th>\n      <th>keywords</th>\n    </tr>\n  </thead>\n  <tbody>\n    <tr>\n      <td>0</td>\n      <td>6523</td>\n      <td>00A</td>\n      <td>heliport</td>\n      <td>Total Rf Heliport</td>\n      <td>40.070801</td>\n      <td>-74.933601</td>\n      <td>11.0</td>\n      <td>NaN</td>\n      <td>US</td>\n      <td>US-PA</td>\n      <td>Bensalem</td>\n      <td>no</td>\n      <td>00A</td>\n      <td>NaN</td>\n      <td>00A</td>\n      <td>NaN</td>\n      <td>NaN</td>\n      <td>NaN</td>\n    </tr>\n    <tr>\n      <td>4</td>\n      <td>6526</td>\n      <td>00AR</td>\n      <td>closed</td>\n      <td>Newport Hospital &amp; Clinic Heliport</td>\n      <td>35.608700</td>\n      <td>-91.254898</td>\n      <td>237.0</td>\n      <td>NaN</td>\n      <td>US</td>\n      <td>US-AR</td>\n      <td>Newport</td>\n      <td>no</td>\n      <td>NaN</td>\n      <td>NaN</td>\n      <td>NaN</td>\n      <td>NaN</td>\n      <td>NaN</td>\n      <td>00AR</td>\n    </tr>\n    <tr>\n      <td>9</td>\n      <td>322658</td>\n      <td>00CN</td>\n      <td>heliport</td>\n      <td>Kitchen Creek Helibase Heliport</td>\n      <td>32.727374</td>\n      <td>-116.459742</td>\n      <td>3350.0</td>\n      <td>NaN</td>\n      <td>US</td>\n      <td>US-CA</td>\n      <td>Pine Valley</td>\n      <td>no</td>\n      <td>00CN</td>\n      <td>NaN</td>\n      <td>00CN</td>\n      <td>NaN</td>\n      <td>NaN</td>\n      <td>NaN</td>\n    </tr>\n  </tbody>\n</table>\n</div>"
     },
     "metadata": {},
     "execution_count": 51
    }
   ],
   "source": [
    "## Filter with and without  records\n",
    "airport_data[airport_data['type'].isin(['heliport','closed'])].head(3)"
   ]
  },
  {
   "cell_type": "code",
   "execution_count": 53,
   "metadata": {},
   "outputs": [
    {
     "output_type": "execute_result",
     "data": {
      "text/plain": [
       "           id    ident            type                       name  \\\n",
       "66528   32753     ZYYY  medium_airport    Shenyang Dongta Airport   \n",
       "66530  307326  ZZ-0002   small_airport  Glorioso Islands Airstrip   \n",
       "66532  313629     ZZZZ   small_airport     Satsuma Iōjima Airport   \n",
       "\n",
       "       latitude_deg  longitude_deg  elevation_ft continent iso_country  \\\n",
       "66528     41.784401     123.496002           NaN        AS          CN   \n",
       "66530    -11.584278      47.296389          11.0        AF          TF   \n",
       "66532     30.784722     130.270556         338.0        AS          JP   \n",
       "\n",
       "      iso_region      municipality scheduled_service gps_code iata_code  \\\n",
       "66528      CN-21  Dadong, Shenyang                no     ZYYY       NaN   \n",
       "66530     TF-U-A  Grande Glorieuse                no      NaN       NaN   \n",
       "66532      JP-46           Mishima                no     RJX7       NaN   \n",
       "\n",
       "      local_code home_link                                     wikipedia_link  \\\n",
       "66528        NaN       NaN                                                NaN   \n",
       "66530        NaN       NaN                                                NaN   \n",
       "66532       RJX7       NaN  http://wikimapia.org/6705190/Satsuma-Iwo-jima-...   \n",
       "\n",
       "                   keywords  \n",
       "66528                   NaN  \n",
       "66530                   NaN  \n",
       "66532  SATSUMA,IWOJIMA,RJX7  "
      ],
      "text/html": "<div>\n<style scoped>\n    .dataframe tbody tr th:only-of-type {\n        vertical-align: middle;\n    }\n\n    .dataframe tbody tr th {\n        vertical-align: top;\n    }\n\n    .dataframe thead th {\n        text-align: right;\n    }\n</style>\n<table border=\"1\" class=\"dataframe\">\n  <thead>\n    <tr style=\"text-align: right;\">\n      <th></th>\n      <th>id</th>\n      <th>ident</th>\n      <th>type</th>\n      <th>name</th>\n      <th>latitude_deg</th>\n      <th>longitude_deg</th>\n      <th>elevation_ft</th>\n      <th>continent</th>\n      <th>iso_country</th>\n      <th>iso_region</th>\n      <th>municipality</th>\n      <th>scheduled_service</th>\n      <th>gps_code</th>\n      <th>iata_code</th>\n      <th>local_code</th>\n      <th>home_link</th>\n      <th>wikipedia_link</th>\n      <th>keywords</th>\n    </tr>\n  </thead>\n  <tbody>\n    <tr>\n      <td>66528</td>\n      <td>32753</td>\n      <td>ZYYY</td>\n      <td>medium_airport</td>\n      <td>Shenyang Dongta Airport</td>\n      <td>41.784401</td>\n      <td>123.496002</td>\n      <td>NaN</td>\n      <td>AS</td>\n      <td>CN</td>\n      <td>CN-21</td>\n      <td>Dadong, Shenyang</td>\n      <td>no</td>\n      <td>ZYYY</td>\n      <td>NaN</td>\n      <td>NaN</td>\n      <td>NaN</td>\n      <td>NaN</td>\n      <td>NaN</td>\n    </tr>\n    <tr>\n      <td>66530</td>\n      <td>307326</td>\n      <td>ZZ-0002</td>\n      <td>small_airport</td>\n      <td>Glorioso Islands Airstrip</td>\n      <td>-11.584278</td>\n      <td>47.296389</td>\n      <td>11.0</td>\n      <td>AF</td>\n      <td>TF</td>\n      <td>TF-U-A</td>\n      <td>Grande Glorieuse</td>\n      <td>no</td>\n      <td>NaN</td>\n      <td>NaN</td>\n      <td>NaN</td>\n      <td>NaN</td>\n      <td>NaN</td>\n      <td>NaN</td>\n    </tr>\n    <tr>\n      <td>66532</td>\n      <td>313629</td>\n      <td>ZZZZ</td>\n      <td>small_airport</td>\n      <td>Satsuma Iōjima Airport</td>\n      <td>30.784722</td>\n      <td>130.270556</td>\n      <td>338.0</td>\n      <td>AS</td>\n      <td>JP</td>\n      <td>JP-46</td>\n      <td>Mishima</td>\n      <td>no</td>\n      <td>RJX7</td>\n      <td>NaN</td>\n      <td>RJX7</td>\n      <td>NaN</td>\n      <td>http://wikimapia.org/6705190/Satsuma-Iwo-jima-...</td>\n      <td>SATSUMA,IWOJIMA,RJX7</td>\n    </tr>\n  </tbody>\n</table>\n</div>"
     },
     "metadata": {},
     "execution_count": 53
    }
   ],
   "source": [
    "airport_data[~airport_data['type'].isin(['heliport','closed'])].tail(3)"
   ]
  },
  {
   "source": [
    "### Group By columns"
   ],
   "cell_type": "markdown",
   "metadata": {}
  },
  {
   "cell_type": "code",
   "execution_count": 56,
   "metadata": {},
   "outputs": [
    {
     "output_type": "execute_result",
     "data": {
      "text/plain": [
       "iso_country\n",
       "AD      3\n",
       "AE    116\n",
       "AF     74\n",
       "AG      4\n",
       "AI      2\n",
       "     ... \n",
       "YT      1\n",
       "ZA    579\n",
       "ZM    103\n",
       "ZW    144\n",
       "ZZ      1\n",
       "Length: 244, dtype: int64"
      ]
     },
     "metadata": {},
     "execution_count": 56
    }
   ],
   "source": [
    "## Group by and count\n",
    "airport_data.groupby(by=['iso_country']).size()"
   ]
  },
  {
   "cell_type": "code",
   "execution_count": 71,
   "metadata": {},
   "outputs": [
    {
     "output_type": "execute_result",
     "data": {
      "text/plain": [
       "    iso_country            type             id  latitude_deg  longitude_deg  \\\n",
       "0            AD          closed  338490.000000     42.544983       1.452258   \n",
       "1            AD        heliport  180038.000000     42.528716       1.526356   \n",
       "2            AE          closed  191966.000000     23.877003      54.305791   \n",
       "3            AE        heliport  331885.291139     24.757006      54.958069   \n",
       "4            AE   large_airport   79005.000000     24.980380      55.173677   \n",
       "..          ...             ...            ...           ...            ...   \n",
       "916          ZW        heliport  345912.000000    -18.925900      30.274200   \n",
       "917          ZW   large_airport    3005.000000    -17.931801      31.092800   \n",
       "918          ZW  medium_airport    3007.250000    -18.899338      29.355876   \n",
       "919          ZW   small_airport  160582.488550    -18.451004      29.665559   \n",
       "920          ZZ        heliport  342305.000000    -48.526000    -123.236000   \n",
       "\n",
       "     elevation_ft  \n",
       "0             NaN  \n",
       "1     3450.000000  \n",
       "2             NaN  \n",
       "3      242.000000  \n",
       "4       93.750000  \n",
       "..            ...  \n",
       "916           NaN  \n",
       "917   4887.000000  \n",
       "918   3343.000000  \n",
       "919   3082.880435  \n",
       "920      1.000000  \n",
       "\n",
       "[921 rows x 6 columns]"
      ],
      "text/html": "<div>\n<style scoped>\n    .dataframe tbody tr th:only-of-type {\n        vertical-align: middle;\n    }\n\n    .dataframe tbody tr th {\n        vertical-align: top;\n    }\n\n    .dataframe thead th {\n        text-align: right;\n    }\n</style>\n<table border=\"1\" class=\"dataframe\">\n  <thead>\n    <tr style=\"text-align: right;\">\n      <th></th>\n      <th>iso_country</th>\n      <th>type</th>\n      <th>id</th>\n      <th>latitude_deg</th>\n      <th>longitude_deg</th>\n      <th>elevation_ft</th>\n    </tr>\n  </thead>\n  <tbody>\n    <tr>\n      <td>0</td>\n      <td>AD</td>\n      <td>closed</td>\n      <td>338490.000000</td>\n      <td>42.544983</td>\n      <td>1.452258</td>\n      <td>NaN</td>\n    </tr>\n    <tr>\n      <td>1</td>\n      <td>AD</td>\n      <td>heliport</td>\n      <td>180038.000000</td>\n      <td>42.528716</td>\n      <td>1.526356</td>\n      <td>3450.000000</td>\n    </tr>\n    <tr>\n      <td>2</td>\n      <td>AE</td>\n      <td>closed</td>\n      <td>191966.000000</td>\n      <td>23.877003</td>\n      <td>54.305791</td>\n      <td>NaN</td>\n    </tr>\n    <tr>\n      <td>3</td>\n      <td>AE</td>\n      <td>heliport</td>\n      <td>331885.291139</td>\n      <td>24.757006</td>\n      <td>54.958069</td>\n      <td>242.000000</td>\n    </tr>\n    <tr>\n      <td>4</td>\n      <td>AE</td>\n      <td>large_airport</td>\n      <td>79005.000000</td>\n      <td>24.980380</td>\n      <td>55.173677</td>\n      <td>93.750000</td>\n    </tr>\n    <tr>\n      <td>...</td>\n      <td>...</td>\n      <td>...</td>\n      <td>...</td>\n      <td>...</td>\n      <td>...</td>\n      <td>...</td>\n    </tr>\n    <tr>\n      <td>916</td>\n      <td>ZW</td>\n      <td>heliport</td>\n      <td>345912.000000</td>\n      <td>-18.925900</td>\n      <td>30.274200</td>\n      <td>NaN</td>\n    </tr>\n    <tr>\n      <td>917</td>\n      <td>ZW</td>\n      <td>large_airport</td>\n      <td>3005.000000</td>\n      <td>-17.931801</td>\n      <td>31.092800</td>\n      <td>4887.000000</td>\n    </tr>\n    <tr>\n      <td>918</td>\n      <td>ZW</td>\n      <td>medium_airport</td>\n      <td>3007.250000</td>\n      <td>-18.899338</td>\n      <td>29.355876</td>\n      <td>3343.000000</td>\n    </tr>\n    <tr>\n      <td>919</td>\n      <td>ZW</td>\n      <td>small_airport</td>\n      <td>160582.488550</td>\n      <td>-18.451004</td>\n      <td>29.665559</td>\n      <td>3082.880435</td>\n    </tr>\n    <tr>\n      <td>920</td>\n      <td>ZZ</td>\n      <td>heliport</td>\n      <td>342305.000000</td>\n      <td>-48.526000</td>\n      <td>-123.236000</td>\n      <td>1.000000</td>\n    </tr>\n  </tbody>\n</table>\n<p>921 rows × 6 columns</p>\n</div>"
     },
     "metadata": {},
     "execution_count": 71
    }
   ],
   "source": [
    "airport_data.groupby(by=['iso_country', 'type'],as_index=False).mean()"
   ]
  },
  {
   "cell_type": "code",
   "execution_count": 75,
   "metadata": {},
   "outputs": [
    {
     "output_type": "execute_result",
     "data": {
      "text/plain": [
       "    iso_country           type  countData\n",
       "855          US    balloonport         29\n",
       "76           BE    balloonport          1\n",
       "215          DE    balloonport          2\n",
       "291          FR    balloonport          1\n",
       "36           AR    balloonport          1\n",
       "..          ...            ...        ...\n",
       "105          BN  small_airport          1\n",
       "661          PH  small_airport        135\n",
       "655          PG  small_airport        507\n",
       "190          CO  small_airport        594\n",
       "592          MY  small_airport         70\n",
       "\n",
       "[921 rows x 3 columns]"
      ],
      "text/html": "<div>\n<style scoped>\n    .dataframe tbody tr th:only-of-type {\n        vertical-align: middle;\n    }\n\n    .dataframe tbody tr th {\n        vertical-align: top;\n    }\n\n    .dataframe thead th {\n        text-align: right;\n    }\n</style>\n<table border=\"1\" class=\"dataframe\">\n  <thead>\n    <tr style=\"text-align: right;\">\n      <th></th>\n      <th>iso_country</th>\n      <th>type</th>\n      <th>countData</th>\n    </tr>\n  </thead>\n  <tbody>\n    <tr>\n      <td>855</td>\n      <td>US</td>\n      <td>balloonport</td>\n      <td>29</td>\n    </tr>\n    <tr>\n      <td>76</td>\n      <td>BE</td>\n      <td>balloonport</td>\n      <td>1</td>\n    </tr>\n    <tr>\n      <td>215</td>\n      <td>DE</td>\n      <td>balloonport</td>\n      <td>2</td>\n    </tr>\n    <tr>\n      <td>291</td>\n      <td>FR</td>\n      <td>balloonport</td>\n      <td>1</td>\n    </tr>\n    <tr>\n      <td>36</td>\n      <td>AR</td>\n      <td>balloonport</td>\n      <td>1</td>\n    </tr>\n    <tr>\n      <td>...</td>\n      <td>...</td>\n      <td>...</td>\n      <td>...</td>\n    </tr>\n    <tr>\n      <td>105</td>\n      <td>BN</td>\n      <td>small_airport</td>\n      <td>1</td>\n    </tr>\n    <tr>\n      <td>661</td>\n      <td>PH</td>\n      <td>small_airport</td>\n      <td>135</td>\n    </tr>\n    <tr>\n      <td>655</td>\n      <td>PG</td>\n      <td>small_airport</td>\n      <td>507</td>\n    </tr>\n    <tr>\n      <td>190</td>\n      <td>CO</td>\n      <td>small_airport</td>\n      <td>594</td>\n    </tr>\n    <tr>\n      <td>592</td>\n      <td>MY</td>\n      <td>small_airport</td>\n      <td>70</td>\n    </tr>\n  </tbody>\n</table>\n<p>921 rows × 3 columns</p>\n</div>"
     },
     "metadata": {},
     "execution_count": 75
    }
   ],
   "source": [
    "airport_data.groupby(['iso_country', 'type']).size().to_frame(\"countData\").reset_index().sort_values(by = ['type'],ascending=True)"
   ]
  },
  {
   "cell_type": "code",
   "execution_count": 83,
   "metadata": {},
   "outputs": [
    {
     "output_type": "execute_result",
     "data": {
      "text/plain": [
       "type\n",
       "small_airport     36884\n",
       "heliport          15962\n",
       "closed             7412\n",
       "medium_airport     4517\n",
       "seaplane_base      1068\n",
       "dtype: int64"
      ]
     },
     "metadata": {},
     "execution_count": 83
    }
   ],
   "source": [
    "airport_data.groupby(by=['type']).filter(lambda x : len(x) > 1000).groupby('type').size().sort_values(ascending = False)"
   ]
  },
  {
   "cell_type": "code",
   "execution_count": 88,
   "metadata": {},
   "outputs": [
    {
     "output_type": "execute_result",
     "data": {
      "text/plain": [
       "             count\n",
       "iso_country       \n",
       "US           26839\n",
       "BR            5877\n",
       "CA            2846\n",
       "JP            2552\n",
       "AU            2054"
      ],
      "text/html": "<div>\n<style scoped>\n    .dataframe tbody tr th:only-of-type {\n        vertical-align: middle;\n    }\n\n    .dataframe tbody tr th {\n        vertical-align: top;\n    }\n\n    .dataframe thead th {\n        text-align: right;\n    }\n</style>\n<table border=\"1\" class=\"dataframe\">\n  <thead>\n    <tr style=\"text-align: right;\">\n      <th></th>\n      <th>count</th>\n    </tr>\n    <tr>\n      <th>iso_country</th>\n      <th></th>\n    </tr>\n  </thead>\n  <tbody>\n    <tr>\n      <td>US</td>\n      <td>26839</td>\n    </tr>\n    <tr>\n      <td>BR</td>\n      <td>5877</td>\n    </tr>\n    <tr>\n      <td>CA</td>\n      <td>2846</td>\n    </tr>\n    <tr>\n      <td>JP</td>\n      <td>2552</td>\n    </tr>\n    <tr>\n      <td>AU</td>\n      <td>2054</td>\n    </tr>\n  </tbody>\n</table>\n</div>"
     },
     "metadata": {},
     "execution_count": 88
    }
   ],
   "source": [
    "## Get top or least count records\n",
    "airport_data.groupby('iso_country').size().to_frame('count').nlargest(5,columns ='count')"
   ]
  },
  {
   "cell_type": "code",
   "execution_count": 89,
   "metadata": {},
   "outputs": [
    {
     "output_type": "execute_result",
     "data": {
      "text/plain": [
       "             count\n",
       "iso_country       \n",
       "MX            1813\n",
       "KR            1378\n",
       "GB            1326\n",
       "RU            1323\n",
       "DE             974"
      ],
      "text/html": "<div>\n<style scoped>\n    .dataframe tbody tr th:only-of-type {\n        vertical-align: middle;\n    }\n\n    .dataframe tbody tr th {\n        vertical-align: top;\n    }\n\n    .dataframe thead th {\n        text-align: right;\n    }\n</style>\n<table border=\"1\" class=\"dataframe\">\n  <thead>\n    <tr style=\"text-align: right;\">\n      <th></th>\n      <th>count</th>\n    </tr>\n    <tr>\n      <th>iso_country</th>\n      <th></th>\n    </tr>\n  </thead>\n  <tbody>\n    <tr>\n      <td>MX</td>\n      <td>1813</td>\n    </tr>\n    <tr>\n      <td>KR</td>\n      <td>1378</td>\n    </tr>\n    <tr>\n      <td>GB</td>\n      <td>1326</td>\n    </tr>\n    <tr>\n      <td>RU</td>\n      <td>1323</td>\n    </tr>\n    <tr>\n      <td>DE</td>\n      <td>974</td>\n    </tr>\n  </tbody>\n</table>\n</div>"
     },
     "metadata": {},
     "execution_count": 89
    }
   ],
   "source": [
    "### next 5 records after top 5 \n",
    "airport_data.groupby('iso_country').size().to_frame('count').nlargest(10,columns ='count').tail(5)"
   ]
  },
  {
   "cell_type": "code",
   "execution_count": 92,
   "metadata": {},
   "outputs": [
    {
     "output_type": "execute_result",
     "data": {
      "text/plain": [
       "Index(['id', 'airport_ref', 'airport_ident', 'length_ft', 'width_ft',\n",
       "       'surface', 'lighted', 'closed', 'le_ident', 'le_latitude_deg',\n",
       "       'le_longitude_deg', 'le_elevation_ft', 'le_heading_degT',\n",
       "       'le_displaced_threshold_ft', 'he_ident', 'he_latitude_deg',\n",
       "       'he_longitude_deg', 'he_elevation_ft', 'he_heading_degT',\n",
       "       'he_displaced_threshold_ft'],\n",
       "      dtype='object')"
      ]
     },
     "metadata": {},
     "execution_count": 92
    }
   ],
   "source": [
    "runways.columns"
   ]
  },
  {
   "source": [
    "### Aggregate Functions"
   ],
   "cell_type": "markdown",
   "metadata": {}
  },
  {
   "cell_type": "code",
   "execution_count": 96,
   "metadata": {},
   "outputs": [
    {
     "output_type": "execute_result",
     "data": {
      "text/plain": [
       "                  mean  median  min       max          std\n",
       "length_ft  3250.841571  2703.0  0.0  120000.0  2736.981801"
      ],
      "text/html": "<div>\n<style scoped>\n    .dataframe tbody tr th:only-of-type {\n        vertical-align: middle;\n    }\n\n    .dataframe tbody tr th {\n        vertical-align: top;\n    }\n\n    .dataframe thead th {\n        text-align: right;\n    }\n</style>\n<table border=\"1\" class=\"dataframe\">\n  <thead>\n    <tr style=\"text-align: right;\">\n      <th></th>\n      <th>mean</th>\n      <th>median</th>\n      <th>min</th>\n      <th>max</th>\n      <th>std</th>\n    </tr>\n  </thead>\n  <tbody>\n    <tr>\n      <td>length_ft</td>\n      <td>3250.841571</td>\n      <td>2703.0</td>\n      <td>0.0</td>\n      <td>120000.0</td>\n      <td>2736.981801</td>\n    </tr>\n  </tbody>\n</table>\n</div>"
     },
     "metadata": {},
     "execution_count": 96
    }
   ],
   "source": [
    "### Aggregate Functions\n",
    "runways.agg({'length_ft' : ['mean','median','min','max','std']}).T"
   ]
  },
  {
   "cell_type": "code",
   "execution_count": 100,
   "metadata": {},
   "outputs": [
    {
     "output_type": "execute_result",
     "data": {
      "text/plain": [
       "                           count unique   top   freq      mean       std  \\\n",
       "id                         42365    NaN   NaN    NaN    258806   23956.4   \n",
       "airport_ref                42365    NaN   NaN    NaN     38521   76825.9   \n",
       "airport_ident              42364  35782  KORD     10       NaN       NaN   \n",
       "length_ft                  42164    NaN   NaN    NaN   3250.84   2736.98   \n",
       "width_ft                   39699    NaN   NaN    NaN   110.287   232.277   \n",
       "surface                    42040    573   ASP  10921       NaN       NaN   \n",
       "lighted                    42365    NaN   NaN    NaN  0.259648  0.438447   \n",
       "closed                     42365    NaN   NaN    NaN  0.016169  0.126127   \n",
       "le_ident                   42244    253    H1   5930       NaN       NaN   \n",
       "le_latitude_deg            14630    NaN   NaN    NaN   31.1648   23.0273   \n",
       "le_longitude_deg           14623    NaN   NaN    NaN  -40.2254   79.7726   \n",
       "le_elevation_ft            12428    NaN   NaN    NaN    1060.4   1463.65   \n",
       "le_heading_degT            14343    NaN   NaN    NaN    104.36   57.3237   \n",
       "le_displaced_threshold_ft   2840    NaN   NaN    NaN   532.989   470.838   \n",
       "he_ident                   36106    227    36   3401       NaN       NaN   \n",
       "he_latitude_deg            14597    NaN   NaN    NaN   31.1493   23.0397   \n",
       "he_longitude_deg           14599    NaN   NaN    NaN  -40.1744   79.7663   \n",
       "he_elevation_ft            12293    NaN   NaN    NaN   1055.42   1456.92   \n",
       "he_heading_degT            16153    NaN   NaN    NaN   261.834   78.3889   \n",
       "he_displaced_threshold_ft   3148    NaN   NaN    NaN   534.487   463.789   \n",
       "\n",
       "                               min      25%      50%      75%      max  \n",
       "id                          232758   243362   253959   264566   346431  \n",
       "airport_ref                      2     8715    18970    27914   346430  \n",
       "airport_ident                  NaN      NaN      NaN      NaN      NaN  \n",
       "length_ft                        0     1650     2703     4200   120000  \n",
       "width_ft                         0       59       75      100     9000  \n",
       "surface                        NaN      NaN      NaN      NaN      NaN  \n",
       "lighted                          0        0        0        1        1  \n",
       "closed                           0        0        0        0        1  \n",
       "le_ident                       NaN      NaN      NaN      NaN      NaN  \n",
       "le_latitude_deg           -75.5972  28.7984   37.566   44.257  82.5128  \n",
       "le_longitude_deg          -178.303 -96.6226 -80.2991  15.3315  179.337  \n",
       "le_elevation_ft              -1246      116      573     1250    13202  \n",
       "le_heading_degT                  0       57     98.2   148.05      360  \n",
       "le_displaced_threshold_ft        1   226.75      400   680.25     6365  \n",
       "he_ident                       NaN      NaN      NaN      NaN      NaN  \n",
       "he_latitude_deg           -75.5954    28.77   37.568  44.2651  82.5228  \n",
       "he_longitude_deg          -178.292 -96.6191 -80.2748  15.3755  179.343  \n",
       "he_elevation_ft              -1210      116      568     1241    13314  \n",
       "he_heading_degT                  0      226      270      316      363  \n",
       "he_displaced_threshold_ft        9   228.75      400      694     5001  "
      ],
      "text/html": "<div>\n<style scoped>\n    .dataframe tbody tr th:only-of-type {\n        vertical-align: middle;\n    }\n\n    .dataframe tbody tr th {\n        vertical-align: top;\n    }\n\n    .dataframe thead th {\n        text-align: right;\n    }\n</style>\n<table border=\"1\" class=\"dataframe\">\n  <thead>\n    <tr style=\"text-align: right;\">\n      <th></th>\n      <th>count</th>\n      <th>unique</th>\n      <th>top</th>\n      <th>freq</th>\n      <th>mean</th>\n      <th>std</th>\n      <th>min</th>\n      <th>25%</th>\n      <th>50%</th>\n      <th>75%</th>\n      <th>max</th>\n    </tr>\n  </thead>\n  <tbody>\n    <tr>\n      <td>id</td>\n      <td>42365</td>\n      <td>NaN</td>\n      <td>NaN</td>\n      <td>NaN</td>\n      <td>258806</td>\n      <td>23956.4</td>\n      <td>232758</td>\n      <td>243362</td>\n      <td>253959</td>\n      <td>264566</td>\n      <td>346431</td>\n    </tr>\n    <tr>\n      <td>airport_ref</td>\n      <td>42365</td>\n      <td>NaN</td>\n      <td>NaN</td>\n      <td>NaN</td>\n      <td>38521</td>\n      <td>76825.9</td>\n      <td>2</td>\n      <td>8715</td>\n      <td>18970</td>\n      <td>27914</td>\n      <td>346430</td>\n    </tr>\n    <tr>\n      <td>airport_ident</td>\n      <td>42364</td>\n      <td>35782</td>\n      <td>KORD</td>\n      <td>10</td>\n      <td>NaN</td>\n      <td>NaN</td>\n      <td>NaN</td>\n      <td>NaN</td>\n      <td>NaN</td>\n      <td>NaN</td>\n      <td>NaN</td>\n    </tr>\n    <tr>\n      <td>length_ft</td>\n      <td>42164</td>\n      <td>NaN</td>\n      <td>NaN</td>\n      <td>NaN</td>\n      <td>3250.84</td>\n      <td>2736.98</td>\n      <td>0</td>\n      <td>1650</td>\n      <td>2703</td>\n      <td>4200</td>\n      <td>120000</td>\n    </tr>\n    <tr>\n      <td>width_ft</td>\n      <td>39699</td>\n      <td>NaN</td>\n      <td>NaN</td>\n      <td>NaN</td>\n      <td>110.287</td>\n      <td>232.277</td>\n      <td>0</td>\n      <td>59</td>\n      <td>75</td>\n      <td>100</td>\n      <td>9000</td>\n    </tr>\n    <tr>\n      <td>surface</td>\n      <td>42040</td>\n      <td>573</td>\n      <td>ASP</td>\n      <td>10921</td>\n      <td>NaN</td>\n      <td>NaN</td>\n      <td>NaN</td>\n      <td>NaN</td>\n      <td>NaN</td>\n      <td>NaN</td>\n      <td>NaN</td>\n    </tr>\n    <tr>\n      <td>lighted</td>\n      <td>42365</td>\n      <td>NaN</td>\n      <td>NaN</td>\n      <td>NaN</td>\n      <td>0.259648</td>\n      <td>0.438447</td>\n      <td>0</td>\n      <td>0</td>\n      <td>0</td>\n      <td>1</td>\n      <td>1</td>\n    </tr>\n    <tr>\n      <td>closed</td>\n      <td>42365</td>\n      <td>NaN</td>\n      <td>NaN</td>\n      <td>NaN</td>\n      <td>0.016169</td>\n      <td>0.126127</td>\n      <td>0</td>\n      <td>0</td>\n      <td>0</td>\n      <td>0</td>\n      <td>1</td>\n    </tr>\n    <tr>\n      <td>le_ident</td>\n      <td>42244</td>\n      <td>253</td>\n      <td>H1</td>\n      <td>5930</td>\n      <td>NaN</td>\n      <td>NaN</td>\n      <td>NaN</td>\n      <td>NaN</td>\n      <td>NaN</td>\n      <td>NaN</td>\n      <td>NaN</td>\n    </tr>\n    <tr>\n      <td>le_latitude_deg</td>\n      <td>14630</td>\n      <td>NaN</td>\n      <td>NaN</td>\n      <td>NaN</td>\n      <td>31.1648</td>\n      <td>23.0273</td>\n      <td>-75.5972</td>\n      <td>28.7984</td>\n      <td>37.566</td>\n      <td>44.257</td>\n      <td>82.5128</td>\n    </tr>\n    <tr>\n      <td>le_longitude_deg</td>\n      <td>14623</td>\n      <td>NaN</td>\n      <td>NaN</td>\n      <td>NaN</td>\n      <td>-40.2254</td>\n      <td>79.7726</td>\n      <td>-178.303</td>\n      <td>-96.6226</td>\n      <td>-80.2991</td>\n      <td>15.3315</td>\n      <td>179.337</td>\n    </tr>\n    <tr>\n      <td>le_elevation_ft</td>\n      <td>12428</td>\n      <td>NaN</td>\n      <td>NaN</td>\n      <td>NaN</td>\n      <td>1060.4</td>\n      <td>1463.65</td>\n      <td>-1246</td>\n      <td>116</td>\n      <td>573</td>\n      <td>1250</td>\n      <td>13202</td>\n    </tr>\n    <tr>\n      <td>le_heading_degT</td>\n      <td>14343</td>\n      <td>NaN</td>\n      <td>NaN</td>\n      <td>NaN</td>\n      <td>104.36</td>\n      <td>57.3237</td>\n      <td>0</td>\n      <td>57</td>\n      <td>98.2</td>\n      <td>148.05</td>\n      <td>360</td>\n    </tr>\n    <tr>\n      <td>le_displaced_threshold_ft</td>\n      <td>2840</td>\n      <td>NaN</td>\n      <td>NaN</td>\n      <td>NaN</td>\n      <td>532.989</td>\n      <td>470.838</td>\n      <td>1</td>\n      <td>226.75</td>\n      <td>400</td>\n      <td>680.25</td>\n      <td>6365</td>\n    </tr>\n    <tr>\n      <td>he_ident</td>\n      <td>36106</td>\n      <td>227</td>\n      <td>36</td>\n      <td>3401</td>\n      <td>NaN</td>\n      <td>NaN</td>\n      <td>NaN</td>\n      <td>NaN</td>\n      <td>NaN</td>\n      <td>NaN</td>\n      <td>NaN</td>\n    </tr>\n    <tr>\n      <td>he_latitude_deg</td>\n      <td>14597</td>\n      <td>NaN</td>\n      <td>NaN</td>\n      <td>NaN</td>\n      <td>31.1493</td>\n      <td>23.0397</td>\n      <td>-75.5954</td>\n      <td>28.77</td>\n      <td>37.568</td>\n      <td>44.2651</td>\n      <td>82.5228</td>\n    </tr>\n    <tr>\n      <td>he_longitude_deg</td>\n      <td>14599</td>\n      <td>NaN</td>\n      <td>NaN</td>\n      <td>NaN</td>\n      <td>-40.1744</td>\n      <td>79.7663</td>\n      <td>-178.292</td>\n      <td>-96.6191</td>\n      <td>-80.2748</td>\n      <td>15.3755</td>\n      <td>179.343</td>\n    </tr>\n    <tr>\n      <td>he_elevation_ft</td>\n      <td>12293</td>\n      <td>NaN</td>\n      <td>NaN</td>\n      <td>NaN</td>\n      <td>1055.42</td>\n      <td>1456.92</td>\n      <td>-1210</td>\n      <td>116</td>\n      <td>568</td>\n      <td>1241</td>\n      <td>13314</td>\n    </tr>\n    <tr>\n      <td>he_heading_degT</td>\n      <td>16153</td>\n      <td>NaN</td>\n      <td>NaN</td>\n      <td>NaN</td>\n      <td>261.834</td>\n      <td>78.3889</td>\n      <td>0</td>\n      <td>226</td>\n      <td>270</td>\n      <td>316</td>\n      <td>363</td>\n    </tr>\n    <tr>\n      <td>he_displaced_threshold_ft</td>\n      <td>3148</td>\n      <td>NaN</td>\n      <td>NaN</td>\n      <td>NaN</td>\n      <td>534.487</td>\n      <td>463.789</td>\n      <td>9</td>\n      <td>228.75</td>\n      <td>400</td>\n      <td>694</td>\n      <td>5001</td>\n    </tr>\n  </tbody>\n</table>\n</div>"
     },
     "metadata": {},
     "execution_count": 100
    }
   ],
   "source": [
    "## to do on all numeric columns\n",
    "runways.describe().T\n",
    "## To include all columns\n",
    "runways.describe(include='all').T"
   ]
  },
  {
   "source": [
    "### Joins"
   ],
   "cell_type": "markdown",
   "metadata": {}
  },
  {
   "cell_type": "code",
   "execution_count": 110,
   "metadata": {},
   "outputs": [
    {
     "output_type": "execute_result",
     "data": {
      "text/plain": [
       "     id_x  airport_ref airport_ident type_x          description  \\\n",
       "0   70518         6528          00CA   CTAF                 CTAF   \n",
       "1  307581         6589          01FL  ARCAL                  NaN   \n",
       "2   75239         6589          01FL   CTAF  CEDAR KNOLL TRAFFIC   \n",
       "\n",
       "   frequency_mhz  id_y ident         type_y                              name  \\\n",
       "0          122.9  6528  00CA  small_airport           Goldstone (GTS) Airport   \n",
       "1          122.9  6589  01FL  small_airport  Cedar Knoll Flying Ranch Airport   \n",
       "2          122.8  6589  01FL  small_airport  Cedar Knoll Flying Ranch Airport   \n",
       "\n",
       "   ...  iso_country  iso_region  municipality scheduled_service gps_code  \\\n",
       "0  ...           US       US-CA       Barstow                no     00CA   \n",
       "1  ...           US       US-FL        Geneva                no     01FL   \n",
       "2  ...           US       US-FL        Geneva                no     01FL   \n",
       "\n",
       "  iata_code local_code home_link wikipedia_link keywords  \n",
       "0       NaN       00CA       NaN            NaN      NaN  \n",
       "1       NaN       01FL       NaN            NaN      NaN  \n",
       "2       NaN       01FL       NaN            NaN      NaN  \n",
       "\n",
       "[3 rows x 24 columns]"
      ],
      "text/html": "<div>\n<style scoped>\n    .dataframe tbody tr th:only-of-type {\n        vertical-align: middle;\n    }\n\n    .dataframe tbody tr th {\n        vertical-align: top;\n    }\n\n    .dataframe thead th {\n        text-align: right;\n    }\n</style>\n<table border=\"1\" class=\"dataframe\">\n  <thead>\n    <tr style=\"text-align: right;\">\n      <th></th>\n      <th>id_x</th>\n      <th>airport_ref</th>\n      <th>airport_ident</th>\n      <th>type_x</th>\n      <th>description</th>\n      <th>frequency_mhz</th>\n      <th>id_y</th>\n      <th>ident</th>\n      <th>type_y</th>\n      <th>name</th>\n      <th>...</th>\n      <th>iso_country</th>\n      <th>iso_region</th>\n      <th>municipality</th>\n      <th>scheduled_service</th>\n      <th>gps_code</th>\n      <th>iata_code</th>\n      <th>local_code</th>\n      <th>home_link</th>\n      <th>wikipedia_link</th>\n      <th>keywords</th>\n    </tr>\n  </thead>\n  <tbody>\n    <tr>\n      <td>0</td>\n      <td>70518</td>\n      <td>6528</td>\n      <td>00CA</td>\n      <td>CTAF</td>\n      <td>CTAF</td>\n      <td>122.9</td>\n      <td>6528</td>\n      <td>00CA</td>\n      <td>small_airport</td>\n      <td>Goldstone (GTS) Airport</td>\n      <td>...</td>\n      <td>US</td>\n      <td>US-CA</td>\n      <td>Barstow</td>\n      <td>no</td>\n      <td>00CA</td>\n      <td>NaN</td>\n      <td>00CA</td>\n      <td>NaN</td>\n      <td>NaN</td>\n      <td>NaN</td>\n    </tr>\n    <tr>\n      <td>1</td>\n      <td>307581</td>\n      <td>6589</td>\n      <td>01FL</td>\n      <td>ARCAL</td>\n      <td>NaN</td>\n      <td>122.9</td>\n      <td>6589</td>\n      <td>01FL</td>\n      <td>small_airport</td>\n      <td>Cedar Knoll Flying Ranch Airport</td>\n      <td>...</td>\n      <td>US</td>\n      <td>US-FL</td>\n      <td>Geneva</td>\n      <td>no</td>\n      <td>01FL</td>\n      <td>NaN</td>\n      <td>01FL</td>\n      <td>NaN</td>\n      <td>NaN</td>\n      <td>NaN</td>\n    </tr>\n    <tr>\n      <td>2</td>\n      <td>75239</td>\n      <td>6589</td>\n      <td>01FL</td>\n      <td>CTAF</td>\n      <td>CEDAR KNOLL TRAFFIC</td>\n      <td>122.8</td>\n      <td>6589</td>\n      <td>01FL</td>\n      <td>small_airport</td>\n      <td>Cedar Knoll Flying Ranch Airport</td>\n      <td>...</td>\n      <td>US</td>\n      <td>US-FL</td>\n      <td>Geneva</td>\n      <td>no</td>\n      <td>01FL</td>\n      <td>NaN</td>\n      <td>01FL</td>\n      <td>NaN</td>\n      <td>NaN</td>\n      <td>NaN</td>\n    </tr>\n  </tbody>\n</table>\n<p>3 rows × 24 columns</p>\n</div>"
     },
     "metadata": {},
     "execution_count": 110
    }
   ],
   "source": [
    "### Joins\n",
    "airport_freq.merge(right= airport_data,left_on='airport_ref', right_on= 'id', how = 'inner').head(3)"
   ]
  },
  {
   "cell_type": "code",
   "execution_count": 119,
   "metadata": {},
   "outputs": [
    {
     "output_type": "execute_result",
     "data": {
      "text/plain": [
       "[                                    name municipality\n",
       " 33253  Los Angeles International Airport  Los Angeles,\n",
       "                                        name municipality\n",
       " 33278  Long Beach Airport (Daugherty Field)   Long Beach]"
      ]
     },
     "metadata": {},
     "execution_count": 119
    }
   ],
   "source": [
    "## Concat tow dataframes\n",
    "pd.concat\n",
    "([airport_data[airport_data['ident'] == 'KLAX'][['name','municipality']],\n",
    "airport_data[airport_data.ident == 'KLGB'][['name','municipality']]\n",
    "])"
   ]
  },
  {
   "cell_type": "code",
   "execution_count": 125,
   "metadata": {},
   "outputs": [],
   "source": [
    "### Update record\n",
    "airport_data.loc[airport_data.ident == 'KLAX','name'] = \"LAIA\"\n"
   ]
  },
  {
   "cell_type": "code",
   "execution_count": 127,
   "metadata": {},
   "outputs": [
    {
     "output_type": "execute_result",
     "data": {
      "text/plain": [
       "           id                                name  latitude_deg  \\\n",
       "0        6523                   Total Rf Heliport     40.070801   \n",
       "1      323361                Aero B Ranch Airport     38.704022   \n",
       "2        6524                        Lowell Field     59.949200   \n",
       "3        6525                        Epps Airpark     34.864799   \n",
       "4        6526  Newport Hospital & Clinic Heliport     35.608700   \n",
       "...       ...                                 ...           ...   \n",
       "66528   32753             Shenyang Dongta Airport     41.784401   \n",
       "66529   46378                     Sealand Helipad     51.894444   \n",
       "66530  307326           Glorioso Islands Airstrip    -11.584278   \n",
       "66531  342102              Scandium City Heliport     69.355287   \n",
       "66532  313629              Satsuma Iōjima Airport     30.784722   \n",
       "\n",
       "       longitude_deg  elevation_ft continent iso_country iso_region  \\\n",
       "0         -74.933601          11.0       NaN          US      US-PA   \n",
       "1        -101.473911        3435.0       NaN          US      US-KS   \n",
       "2        -151.695999         450.0       NaN          US      US-AK   \n",
       "3         -86.770302         820.0       NaN          US      US-AL   \n",
       "4         -91.254898         237.0       NaN          US      US-AR   \n",
       "...              ...           ...       ...         ...        ...   \n",
       "66528     123.496002           NaN        AS          CN      CN-21   \n",
       "66529       1.482500          40.0        EU          GB     GB-ENG   \n",
       "66530      47.296389          11.0        AF          TF     TF-U-A   \n",
       "66531    -138.939310           4.0       NaN          CA      CA-YT   \n",
       "66532     130.270556         338.0        AS          JP      JP-46   \n",
       "\n",
       "              municipality scheduled_service gps_code iata_code local_code  \\\n",
       "0                 Bensalem                no      00A       NaN        00A   \n",
       "1                    Leoti                no     00AA       NaN       00AA   \n",
       "2             Anchor Point                no     00AK       NaN       00AK   \n",
       "3                  Harvest                no     00AL       NaN       00AL   \n",
       "4                  Newport                no      NaN       NaN        NaN   \n",
       "...                    ...               ...      ...       ...        ...   \n",
       "66528     Dadong, Shenyang                no     ZYYY       NaN        NaN   \n",
       "66529              Sealand                no      NaN       NaN        NaN   \n",
       "66530     Grande Glorieuse                no      NaN       NaN        NaN   \n",
       "66531  (Old) Scandium City                no     ZZZW       ZYW       YK96   \n",
       "66532              Mishima                no     RJX7       NaN       RJX7   \n",
       "\n",
       "                        home_link  \\\n",
       "0                             NaN   \n",
       "1                             NaN   \n",
       "2                             NaN   \n",
       "3                             NaN   \n",
       "4                             NaN   \n",
       "...                           ...   \n",
       "66528                         NaN   \n",
       "66529  http://www.sealandgov.org/   \n",
       "66530                         NaN   \n",
       "66531                         NaN   \n",
       "66532                         NaN   \n",
       "\n",
       "                                          wikipedia_link              keywords  \n",
       "0                                                    NaN                   NaN  \n",
       "1                                                    NaN                   NaN  \n",
       "2                                                    NaN                   NaN  \n",
       "3                                                    NaN                   NaN  \n",
       "4                                                    NaN                  00AR  \n",
       "...                                                  ...                   ...  \n",
       "66528                                                NaN                   NaN  \n",
       "66529  https://en.wikipedia.org/wiki/Principality_of_...  Roughs Tower Helipad  \n",
       "66530                                                NaN                   NaN  \n",
       "66531                                                NaN                   NaN  \n",
       "66532  http://wikimapia.org/6705190/Satsuma-Iwo-jima-...  SATSUMA,IWOJIMA,RJX7  \n",
       "\n",
       "[66533 rows x 16 columns]"
      ],
      "text/html": "<div>\n<style scoped>\n    .dataframe tbody tr th:only-of-type {\n        vertical-align: middle;\n    }\n\n    .dataframe tbody tr th {\n        vertical-align: top;\n    }\n\n    .dataframe thead th {\n        text-align: right;\n    }\n</style>\n<table border=\"1\" class=\"dataframe\">\n  <thead>\n    <tr style=\"text-align: right;\">\n      <th></th>\n      <th>id</th>\n      <th>name</th>\n      <th>latitude_deg</th>\n      <th>longitude_deg</th>\n      <th>elevation_ft</th>\n      <th>continent</th>\n      <th>iso_country</th>\n      <th>iso_region</th>\n      <th>municipality</th>\n      <th>scheduled_service</th>\n      <th>gps_code</th>\n      <th>iata_code</th>\n      <th>local_code</th>\n      <th>home_link</th>\n      <th>wikipedia_link</th>\n      <th>keywords</th>\n    </tr>\n  </thead>\n  <tbody>\n    <tr>\n      <td>0</td>\n      <td>6523</td>\n      <td>Total Rf Heliport</td>\n      <td>40.070801</td>\n      <td>-74.933601</td>\n      <td>11.0</td>\n      <td>NaN</td>\n      <td>US</td>\n      <td>US-PA</td>\n      <td>Bensalem</td>\n      <td>no</td>\n      <td>00A</td>\n      <td>NaN</td>\n      <td>00A</td>\n      <td>NaN</td>\n      <td>NaN</td>\n      <td>NaN</td>\n    </tr>\n    <tr>\n      <td>1</td>\n      <td>323361</td>\n      <td>Aero B Ranch Airport</td>\n      <td>38.704022</td>\n      <td>-101.473911</td>\n      <td>3435.0</td>\n      <td>NaN</td>\n      <td>US</td>\n      <td>US-KS</td>\n      <td>Leoti</td>\n      <td>no</td>\n      <td>00AA</td>\n      <td>NaN</td>\n      <td>00AA</td>\n      <td>NaN</td>\n      <td>NaN</td>\n      <td>NaN</td>\n    </tr>\n    <tr>\n      <td>2</td>\n      <td>6524</td>\n      <td>Lowell Field</td>\n      <td>59.949200</td>\n      <td>-151.695999</td>\n      <td>450.0</td>\n      <td>NaN</td>\n      <td>US</td>\n      <td>US-AK</td>\n      <td>Anchor Point</td>\n      <td>no</td>\n      <td>00AK</td>\n      <td>NaN</td>\n      <td>00AK</td>\n      <td>NaN</td>\n      <td>NaN</td>\n      <td>NaN</td>\n    </tr>\n    <tr>\n      <td>3</td>\n      <td>6525</td>\n      <td>Epps Airpark</td>\n      <td>34.864799</td>\n      <td>-86.770302</td>\n      <td>820.0</td>\n      <td>NaN</td>\n      <td>US</td>\n      <td>US-AL</td>\n      <td>Harvest</td>\n      <td>no</td>\n      <td>00AL</td>\n      <td>NaN</td>\n      <td>00AL</td>\n      <td>NaN</td>\n      <td>NaN</td>\n      <td>NaN</td>\n    </tr>\n    <tr>\n      <td>4</td>\n      <td>6526</td>\n      <td>Newport Hospital &amp; Clinic Heliport</td>\n      <td>35.608700</td>\n      <td>-91.254898</td>\n      <td>237.0</td>\n      <td>NaN</td>\n      <td>US</td>\n      <td>US-AR</td>\n      <td>Newport</td>\n      <td>no</td>\n      <td>NaN</td>\n      <td>NaN</td>\n      <td>NaN</td>\n      <td>NaN</td>\n      <td>NaN</td>\n      <td>00AR</td>\n    </tr>\n    <tr>\n      <td>...</td>\n      <td>...</td>\n      <td>...</td>\n      <td>...</td>\n      <td>...</td>\n      <td>...</td>\n      <td>...</td>\n      <td>...</td>\n      <td>...</td>\n      <td>...</td>\n      <td>...</td>\n      <td>...</td>\n      <td>...</td>\n      <td>...</td>\n      <td>...</td>\n      <td>...</td>\n      <td>...</td>\n    </tr>\n    <tr>\n      <td>66528</td>\n      <td>32753</td>\n      <td>Shenyang Dongta Airport</td>\n      <td>41.784401</td>\n      <td>123.496002</td>\n      <td>NaN</td>\n      <td>AS</td>\n      <td>CN</td>\n      <td>CN-21</td>\n      <td>Dadong, Shenyang</td>\n      <td>no</td>\n      <td>ZYYY</td>\n      <td>NaN</td>\n      <td>NaN</td>\n      <td>NaN</td>\n      <td>NaN</td>\n      <td>NaN</td>\n    </tr>\n    <tr>\n      <td>66529</td>\n      <td>46378</td>\n      <td>Sealand Helipad</td>\n      <td>51.894444</td>\n      <td>1.482500</td>\n      <td>40.0</td>\n      <td>EU</td>\n      <td>GB</td>\n      <td>GB-ENG</td>\n      <td>Sealand</td>\n      <td>no</td>\n      <td>NaN</td>\n      <td>NaN</td>\n      <td>NaN</td>\n      <td>http://www.sealandgov.org/</td>\n      <td>https://en.wikipedia.org/wiki/Principality_of_...</td>\n      <td>Roughs Tower Helipad</td>\n    </tr>\n    <tr>\n      <td>66530</td>\n      <td>307326</td>\n      <td>Glorioso Islands Airstrip</td>\n      <td>-11.584278</td>\n      <td>47.296389</td>\n      <td>11.0</td>\n      <td>AF</td>\n      <td>TF</td>\n      <td>TF-U-A</td>\n      <td>Grande Glorieuse</td>\n      <td>no</td>\n      <td>NaN</td>\n      <td>NaN</td>\n      <td>NaN</td>\n      <td>NaN</td>\n      <td>NaN</td>\n      <td>NaN</td>\n    </tr>\n    <tr>\n      <td>66531</td>\n      <td>342102</td>\n      <td>Scandium City Heliport</td>\n      <td>69.355287</td>\n      <td>-138.939310</td>\n      <td>4.0</td>\n      <td>NaN</td>\n      <td>CA</td>\n      <td>CA-YT</td>\n      <td>(Old) Scandium City</td>\n      <td>no</td>\n      <td>ZZZW</td>\n      <td>ZYW</td>\n      <td>YK96</td>\n      <td>NaN</td>\n      <td>NaN</td>\n      <td>NaN</td>\n    </tr>\n    <tr>\n      <td>66532</td>\n      <td>313629</td>\n      <td>Satsuma Iōjima Airport</td>\n      <td>30.784722</td>\n      <td>130.270556</td>\n      <td>338.0</td>\n      <td>AS</td>\n      <td>JP</td>\n      <td>JP-46</td>\n      <td>Mishima</td>\n      <td>no</td>\n      <td>RJX7</td>\n      <td>NaN</td>\n      <td>RJX7</td>\n      <td>NaN</td>\n      <td>http://wikimapia.org/6705190/Satsuma-Iwo-jima-...</td>\n      <td>SATSUMA,IWOJIMA,RJX7</td>\n    </tr>\n  </tbody>\n</table>\n<p>66533 rows × 16 columns</p>\n</div>"
     },
     "metadata": {},
     "execution_count": 127
    }
   ],
   "source": [
    "## Drop rows or colums\n",
    "airport_data.drop(airport_data[airport_data.type == 'small_airport'].index)\n",
    "airport_data[airport_data.type != 'small_airport']\n",
    "\n",
    "airport_data.drop(['type','ident'],axis=1)"
   ]
  },
  {
   "cell_type": "code",
   "execution_count": 130,
   "metadata": {},
   "outputs": [],
   "source": [
    "## Creating new column , conditional column\n",
    "airport_data['new_col'] = \"new_data\"\n",
    "airport_data['new_col2'] =  airport_data['elevation_ft'].apply(lambda x : 'high' if x > 1000 else 'low')"
   ]
  },
  {
   "cell_type": "code",
   "execution_count": 138,
   "metadata": {},
   "outputs": [
    {
     "output_type": "stream",
     "name": "stdout",
     "text": [
      "[nan 'OC' 'AF' 'AN' 'EU' 'AS' 'SA']\n['Other' 'OC' 'AF' 'AN' 'EU' 'AS' 'SA']\n"
     ]
    }
   ],
   "source": [
    "### Imputation\n",
    "airport_data.continent.isna().sum()\n",
    "print(airport_data.continent.unique())\n",
    "airport_data.continent.fillna(\"Other\",inplace=True)\n",
    "print(airport_data.continent.unique())"
   ]
  },
  {
   "cell_type": "code",
   "execution_count": 142,
   "metadata": {},
   "outputs": [],
   "source": [
    "airport_data.elevation_ft.interpolate(method = 'linear',limit_direction='forward',inplace=True)"
   ]
  },
  {
   "cell_type": "code",
   "execution_count": 143,
   "metadata": {},
   "outputs": [
    {
     "output_type": "execute_result",
     "data": {
      "text/plain": [
       "0              11.0\n",
       "1            3446.0\n",
       "2            3896.0\n",
       "3            4716.0\n",
       "4            4953.0\n",
       "            ...    \n",
       "66528    79909288.0\n",
       "66529    79909328.0\n",
       "66530    79909339.0\n",
       "66531    79909343.0\n",
       "66532    79909681.0\n",
       "Name: elevation_ft, Length: 66533, dtype: float64"
      ]
     },
     "metadata": {},
     "execution_count": 143
    }
   ],
   "source": [
    "## Cummulative sum and lag or lead\n",
    "airport_data.elevation_ft.cumsum()"
   ]
  },
  {
   "cell_type": "code",
   "execution_count": 144,
   "metadata": {},
   "outputs": [
    {
     "output_type": "execute_result",
     "data": {
      "text/plain": [
       "0                NaN\n",
       "1          11.000000\n",
       "2        3435.000000\n",
       "3         450.000000\n",
       "4         820.000000\n",
       "            ...     \n",
       "66528     429.333333\n",
       "66529     234.666667\n",
       "66530      40.000000\n",
       "66531      11.000000\n",
       "66532       4.000000\n",
       "Name: elevation_ft, Length: 66533, dtype: float64"
      ]
     },
     "metadata": {},
     "execution_count": 144
    }
   ],
   "source": [
    "airport_data.elevation_ft.shift(periods = 1)"
   ]
  },
  {
   "cell_type": "code",
   "execution_count": null,
   "metadata": {},
   "outputs": [],
   "source": []
  }
 ]
}